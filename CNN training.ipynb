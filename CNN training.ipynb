{
 "cells": [
  {
   "cell_type": "code",
   "execution_count": null,
   "id": "4c89479a",
   "metadata": {},
   "outputs": [],
   "source": [
    "import numpy as np\n",
    "import pandas as pd\n",
    "import matplotlib.pyplot as plt\n",
    "import tensorflow as tf\n",
    "from tensorflow import keras\n",
    "from keras.models import Sequential\n",
    "from keras.models import Model\n",
    "from keras.layers import Dense, Dropout, InputLayer, Input, Flatten, Conv1D, MaxPooling1D\n",
    "import optuna\n",
    "import openpyxl\n",
    "import sklearn\n",
    "from sklearn.model_selection import train_test_split\n",
    "from sklearn.utils import shuffle\n",
    "from keras.callbacks import EarlyStopping\n",
    "from keras.losses import SparseCategoricalCrossentropy\n",
    "from keras.losses import MeanAbsoluteError\n",
    "from tensorflow.keras.callbacks import ReduceLROnPlateau"
   ]
  },
  {
   "cell_type": "code",
   "execution_count": null,
   "id": "bd0a8484",
   "metadata": {},
   "outputs": [],
   "source": [
    "ds = pd.read_csv('intraindata2n.csv', header=None)\n",
    "ds = ds.sample(frac=1).reset_index(drop=True)\n",
    "x_train = np.array(ds.iloc[:, 5:])\n",
    "y1_train = np.array(ds[[0]])\n",
    "y2_train = np.array(ds[[1]])\n",
    "y3_train = np.array(ds[[2]])\n",
    "y4_train = np.array(ds[[3]])\n",
    "y5_train = np.array(ds[[4]])\n",
    "ds = pd.read_csv('invalidation2n.csv', header=None)\n",
    "ds = ds.sample(frac=1).reset_index(drop=True)\n",
    "x_val = np.array(ds.iloc[:, 5:])\n",
    "y1_val = np.array(ds[[0]])\n",
    "y2_val = np.array(ds[[1]])\n",
    "y3_val = np.array(ds[[2]])\n",
    "y4_val = np.array(ds[[3]])\n",
    "y5_val = np.array(ds[[4]])\n"
   ]
  },
  {
   "cell_type": "code",
   "execution_count": null,
   "id": "b564d8cd",
   "metadata": {},
   "outputs": [],
   "source": [
    "miny3 = np.min(y3_train)\n",
    "maxy3 = np.max(y3_train)\n",
    "miny4 = np.min(y4_train)\n",
    "maxy4 = np.max(y4_train)\n",
    "miny5 = np.min(y5_train)\n",
    "maxy5 = np.max(y5_train)\n",
    "miny31 = np.min(y3_val)\n",
    "maxy31= np.max(y3_val)\n",
    "miny41 = np.min(y4_val)\n",
    "maxy41 = np.max(y4_val)\n",
    "miny51 = np.min(y5_val)\n",
    "maxy51 = np.max(y5_val)\n",
    "y3_train = (y3_train - miny3) / (maxy3 - miny3)\n",
    "y4_train = (y4_train - miny4) / (maxy4 - miny4)\n",
    "y5_train = (y5_train - miny5) / (maxy5 - miny5)\n",
    "y3_val = (y3_val- miny31) / (maxy31 - miny31)\n",
    "y4_val = (y4_val - miny41) / (maxy41- miny41)\n",
    "y5_val = (y5_val - miny51) / (maxy51 - miny51)"
   ]
  },
  {
   "cell_type": "code",
   "execution_count": null,
   "id": "2e1247e2",
   "metadata": {},
   "outputs": [],
   "source": [
    "input_shape=(200,1)\n",
    "x_in=Input(shape=input_shape)\n",
    "conv1=Conv1D(filters=16, kernel_size=3, activation='relu')(x_in)\n",
    "pool1=MaxPooling1D(strides=2, padding='same')(conv1)\n",
    "conv2=Conv1D(filters=32, kernel_size=3, activation='relu')(pool1)\n",
    "pool2=MaxPooling1D(strides=2, padding='same')(conv2)\n",
    "conv3=Conv1D(filters=64, kernel_size=3, activation='relu')(pool2)\n",
    "pool3=MaxPooling1D(strides=2, padding='same')(conv3)\n",
    "conv4=Conv1D(filters=32, kernel_size=3, activation='relu')(pool3)\n",
    "pool4=MaxPooling1D(strides=2, padding='same')(conv4)\n",
    "conv5=Conv1D(filters=256, kernel_size=3, activation='relu')(pool4)\n",
    "pool5=MaxPooling1D(strides=2, padding='same')(conv5)\n",
    "\n",
    "xx=Flatten()(pool5)\n",
    "x = Dense(500, activation='relu')(xx)\n",
    "x = Dense(500, activation='relu')(x)\n",
    "x = Dense(500, activation='relu')(x)\n",
    "x = Dense(500, activation='relu')(x)\n",
    "out1 = Dense(2, activation='softmax')(x)\n",
    "\n",
    "x = Dense(800, activation='relu')(xx)\n",
    "x = Dense(800, activation='relu')(x)\n",
    "x = Dense(800, activation='relu')(x)\n",
    "x = Dense(800, activation='relu')(x)\n",
    "out2 = Dense(3, activation='softmax')(x)\n",
    "xa = Dense(510, activation='relu')(xx)\n",
    "xa = Dense(510, activation='relu')(xa)\n",
    "xa = Dense(510, activation='relu')(xa)\n",
    "xa = Dense(510, activation='relu')(xa)\n",
    "\n",
    "out3 = Dense(1, activation='linear')(xa)\n",
    "xb = Dense(510, activation='relu')(xx)\n",
    "xb = Dense(510, activation='relu')(xb)\n",
    "xb = Dense(510, activation='relu')(xb)\n",
    "xb = Dense(510, activation='relu')(xb)\n",
    "\n",
    "out4 = Dense(1, activation='linear')(xb)\n",
    "\n",
    "xc = Dense(510, activation='relu')(xx)\n",
    "xc = Dense(510, activation='relu')(xc)\n",
    "xc = Dense(510, activation='relu')(xc)\n",
    "xc = Dense(510, activation='relu')(xc)\n",
    "\n",
    "out5 = Dense(1, activation='linear')(xc)\n",
    "model = Model(inputs=in1, outputs=(out1, out2, out3, out4, out5))\n",
    "\n"
   ]
  },
  {
   "cell_type": "code",
   "execution_count": null,
   "id": "7b291c76",
   "metadata": {},
   "outputs": [],
   "source": [
    "optimizer=tf.keras.optimizers.Adam(0.00017)\n",
    "model.compile(optimizer=optimizer, loss=['SparseCategoricalCrossentropy', 'SparseCategoricalCrossentropy', 'mse', 'mse', 'mse'],\n",
    "              metrics=[['accuracy'], ['accuracy'], ['mse','mae'], ['mse','mae'], ['mse','mae']])\n",
    "early=EarlyStopping(monitor='val_loss', patience=100, mode='min', restore_best_weights=True)\n"
   ]
  },
  {
   "cell_type": "code",
   "execution_count": null,
   "id": "b5cc45f2",
   "metadata": {},
   "outputs": [],
   "source": [
    "history=model.fit(x_train,( y1_train, y2_train, y3_train, y4_train, y5_train), validation_data=(x_val,[y1_val, y2_val, y3_val, y4_val, y5_val]), batch_size=128, epochs=1000, verbose=2,validation_batch_size=128, shuffle=True, callbacks=[early])"
   ]
  }
 ],
 "metadata": {
  "kernelspec": {
   "display_name": "Python 3 (ipykernel)",
   "language": "python",
   "name": "python3"
  },
  "language_info": {
   "codemirror_mode": {
    "name": "ipython",
    "version": 3
   },
   "file_extension": ".py",
   "mimetype": "text/x-python",
   "name": "python",
   "nbconvert_exporter": "python",
   "pygments_lexer": "ipython3",
   "version": "3.9.13"
  }
 },
 "nbformat": 4,
 "nbformat_minor": 5
}
