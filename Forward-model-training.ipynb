{
 "cells": [
  {
   "cell_type": "code",
   "execution_count": 1,
   "id": "a97b8616",
   "metadata": {},
   "outputs": [
    {
     "name": "stderr",
     "output_type": "stream",
     "text": [
      "C:\\Users\\Dell\\anaconda3\\envs\\tensorflow\\lib\\site-packages\\tqdm\\auto.py:21: TqdmWarning: IProgress not found. Please update jupyter and ipywidgets. See https://ipywidgets.readthedocs.io/en/stable/user_install.html\n",
      "  from .autonotebook import tqdm as notebook_tqdm\n"
     ]
    }
   ],
   "source": [
    "import numpy as np\n",
    "import pandas as pd\n",
    "import matplotlib.pyplot as plt\n",
    "import tensorflow as tf\n",
    "from tensorflow import keras\n",
    "from keras.models import Sequential\n",
    "from keras.layers import Dense, Dropout, InputLayer\n",
    "import optuna\n",
    "import openpyxl\n",
    "import sklearn\n",
    "from sklearn.model_selection import train_test_split\n",
    "from sklearn.utils import shuffle\n",
    "from keras.callbacks import EarlyStopping\n",
    "import matplotlib.pyplot as plt"
   ]
  },
  {
   "cell_type": "code",
   "execution_count": 3,
   "id": "dbb4dce9",
   "metadata": {},
   "outputs": [],
   "source": [
    "ds = pd.read_csv('all-material-excel.csv', header=None)\n",
    "ds = ds.sample(frac=1).reset_index(drop=True)\n",
    "\n",
    "X1_train = np.array(ds[[0]])\n",
    "X2_train = np.array(ds[[1]])\n",
    "X3_train = np.array(ds[[2]])\n",
    "X4_train = np.array(ds[[3]])\n",
    "X5_train = np.array(ds[[4]])\n",
    "\n",
    "Y_train = np.array(ds.iloc[:, 5:])\n"
   ]
  },
  {
   "cell_type": "code",
   "execution_count": 4,
   "id": "98d3b020",
   "metadata": {},
   "outputs": [],
   "source": [
    "minX3 = np.min(X3_train)\n",
    "maxX3 = np.max(X3_train)\n",
    "minX4 = np.min(X4_train)\n",
    "maxX4 = np.max(X4_train)\n",
    "minX5 = np.min(X5_train)\n",
    "maxX5 = np.max(X5_train)\n",
    "\n",
    "X3_train = (X3_train - minX3) / (maxX3 - minX3)\n",
    "X4_train = (X4_train - minX4) / (maxX4 - minX4)\n",
    "X5_train = (X5_train - minX5) / (maxX5 - minX5)\n",
    "\n",
    "x_train = np.column_stack((X1_train, X2_train, X3_train, X4_train, X5_train))\n"
   ]
  },
  {
   "cell_type": "code",
   "execution_count": 5,
   "id": "6ef1b9f7",
   "metadata": {},
   "outputs": [],
   "source": [
    "x_train,x_test,Y_train,Y_test=train_test_split(x_train,Y_train,test_size=0.1)"
   ]
  },
  {
   "cell_type": "code",
   "execution_count": null,
   "id": "283e6b96",
   "metadata": {},
   "outputs": [],
   "source": [
    "model = Sequential([\n",
    "    Dense(1083, input_shape=x_train[0].shape, activation='relu'),\n",
    "    Dropout(0.2),\n",
    "    Dense(1083, activation='relu'),\n",
    "    Dropout(0.2),\n",
    "    Dense(1083, activation='relu'),\n",
    "    Dropout(0.2),\n",
    "    Dense(1083, activation='relu'),\n",
    "    Dropout(0.2),\n",
    "    Dense(1083, activation='relu'),\n",
    "    Dropout(0.2),\n",
    "    Dense(200, activation='linear')\n",
    "])\n",
    "optimizer=tf.keras.optimizers.Adam(0.00011)\n",
    "model.compile(optimizer=optimizer, loss='mse', metrics=['mse'])\n",
    "callback=EarlyStopping(monitor='val_loss', patience=50, mode='min', restore_best_weights=True)\n",
    "history=model.fit(x_train, Y_train, batch_size=128, epochs=1500, validation_split=0.1, validation_batch_size=128, verbose=2, shuffle=True, callbacks=callback)"
   ]
  },
  {
   "cell_type": "code",
   "execution_count": null,
   "id": "35aea5f8",
   "metadata": {},
   "outputs": [],
   "source": [
    "import matplotlib.pyplot as plt\n",
    "\n",
    "\n",
    "# Plot validation loss\n",
    "loss = history.history['loss']\n",
    "\n",
    "df1=pd.DataFrame(loss)\n",
    "df1.to_excel('loss.xlsx')\n",
    "val_loss=history.history['val_loss']\n",
    "df2=pd.DataFrame(val_loss)\n",
    "df2.to_excel('validation_loss.xlsx')\n"
   ]
  },
  {
   "cell_type": "code",
   "execution_count": 7,
   "id": "80f7b218",
   "metadata": {},
   "outputs": [],
   "source": [
    "filename=\"ptest.h5\"\n",
    "model.save(filename)"
   ]
  },
  {
   "cell_type": "markdown",
   "id": "67603a99",
   "metadata": {},
   "source": [
    "### "
   ]
  }
 ],
 "metadata": {
  "kernelspec": {
   "display_name": "Python 3 (ipykernel)",
   "language": "python",
   "name": "python3"
  },
  "language_info": {
   "codemirror_mode": {
    "name": "ipython",
    "version": 3
   },
   "file_extension": ".py",
   "mimetype": "text/x-python",
   "name": "python",
   "nbconvert_exporter": "python",
   "pygments_lexer": "ipython3",
   "version": "3.9.13"
  }
 },
 "nbformat": 4,
 "nbformat_minor": 5
}
