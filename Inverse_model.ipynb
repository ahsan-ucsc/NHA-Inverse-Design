{
 "cells": [
  {
   "cell_type": "code",
   "execution_count": null,
   "id": "65ef1a5d",
   "metadata": {
    "id": "65ef1a5d"
   },
   "outputs": [],
   "source": [
    "import numpy as np\n",
    "import pandas as pd\n",
    "import matplotlib.pyplot as plt\n",
    "import tensorflow as tf\n",
    "from tensorflow import keras\n",
    "from keras.models import Sequential\n",
    "from keras.models import Model\n",
    "from keras.layers import Dense, Dropout, InputLayer, Input\n",
    "import optuna\n",
    "import openpyxl\n",
    "import sklearn\n",
    "from sklearn.model_selection import train_test_split\n",
    "from sklearn.utils import shuffle\n",
    "from keras.callbacks import EarlyStopping\n",
    "from keras.losses import SparseCategoricalCrossentropy\n",
    "from keras.losses import MeanAbsoluteError\n",
    "from tensorflow.keras.callbacks import ReduceLROnPlateau"
   ]
  },
  {
   "cell_type": "code",
   "execution_count": null,
   "id": "e81f9fd3",
   "metadata": {
    "id": "e81f9fd3"
   },
   "outputs": [],
   "source": [
    "ds = pd.read_csv('all-material-excel.csv', header=None)\n",
    "ds = ds.sample(frac=1).reset_index(drop=True)\n",
    "x_train = np.array(ds.iloc[:, 5:])\n",
    "y1_train = np.array(ds[[0]])\n",
    "y2_train = np.array(ds[[1]])\n",
    "y3_train = np.array(ds[[2]])\n",
    "y4_train = np.array(ds[[3]])\n",
    "y5_train = np.array(ds[[4]])\n",
    "y_train = np.column_stack((y1_train, y2_train, y3_train, y4_train, y5_train))\n"
   ]
  },
  {
   "cell_type": "code",
   "execution_count": null,
   "id": "3f90cdeb-8d7d-43e0-9da4-b02898a2eb87",
   "metadata": {
    "id": "3f90cdeb-8d7d-43e0-9da4-b02898a2eb87"
   },
   "outputs": [],
   "source": [
    "ds = pd.read_csv('intraindata2n.csv', header=None)\n",
    "ds = ds.sample(frac=1).reset_index(drop=True)\n",
    "x_train = np.array(ds.iloc[:, 5:])\n",
    "y1_train = np.array(ds[[0]])\n",
    "y2_train = np.array(ds[[1]])\n",
    "y3_train = np.array(ds[[2]])\n",
    "y4_train = np.array(ds[[3]])\n",
    "y5_train = np.array(ds[[4]])\n",
    "ds = pd.read_csv('invalidation2n.csv', header=None)\n",
    "ds = ds.sample(frac=1).reset_index(drop=True)\n",
    "x_val = np.array(ds.iloc[:, 5:])\n",
    "y1_val = np.array(ds[[0]])\n",
    "y2_val = np.array(ds[[1]])\n",
    "y3_val = np.array(ds[[2]])\n",
    "y4_val = np.array(ds[[3]])\n",
    "y5_val = np.array(ds[[4]])"
   ]
  },
  {
   "cell_type": "code",
   "execution_count": null,
   "id": "c9d55c5f-8777-4bba-bfad-3db215d2fa42",
   "metadata": {
    "id": "c9d55c5f-8777-4bba-bfad-3db215d2fa42"
   },
   "outputs": [],
   "source": [
    "miny3 = np.min(y3_train)\n",
    "maxy3 = np.max(y3_train)\n",
    "miny4 = np.min(y4_train)\n",
    "maxy4 = np.max(y4_train)\n",
    "miny5 = np.min(y5_train)\n",
    "maxy5 = np.max(y5_train)\n",
    "miny31 = np.min(y3_val)\n",
    "maxy31= np.max(y3_val)\n",
    "miny41 = np.min(y4_val)\n",
    "maxy41 = np.max(y4_val)\n",
    "miny51 = np.min(y5_val)\n",
    "maxy51 = np.max(y5_val)\n",
    "y3_train = (y3_train - miny3) / (maxy3 - miny3)\n",
    "y4_train = (y4_train - miny4) / (maxy4 - miny4)\n",
    "y5_train = (y5_train - miny5) / (maxy5 - miny5)\n",
    "\n",
    "\n",
    "\n",
    "y3_val = (y3_val- miny31) / (maxy31 - miny31)\n",
    "y4_val = (y4_val - miny41) / (maxy41- miny41)\n",
    "y5_val = (y5_val - miny51) / (maxy51 - miny51)"
   ]
  },
  {
   "cell_type": "code",
   "execution_count": null,
   "id": "c1b5fe45",
   "metadata": {
    "id": "c1b5fe45"
   },
   "outputs": [],
   "source": [
    "in1 = Input(shape=x_train[0].shape)\n",
    "\n",
    "x1 = Dense(500, activation='relu')(in1)\n",
    "x1 = Dense(500, activation='relu')(x1)\n",
    "x1 = Dense(500, activation='relu')(x1)\n",
    "x1 = Dense(500, activation='relu')(x1)\n",
    "out1 = Dense(2, activation='softmax')(x1)\n",
    "\n",
    "x2 = Dense(800, activation='relu')(in1)\n",
    "x2 = Dense(800, activation='relu')(x2)\n",
    "x2 = Dense(800, activation='relu')(x2)\n",
    "x2 = Dense(800, activation='relu')(x2)\n",
    "out2 = Dense(3, activation='softmax')(x2)\n",
    "\n",
    "xa = Dense(1180, activation='relu')(in1)\n",
    "xa = Dense(1180, activation='relu')(xa)\n",
    "xa = Dense(1180, activation='relu')(xa)\n",
    "xa = Dense(1180, activation='relu')(xa)\n",
    "xa = Dense(1180, activation='relu')(xa)\n",
    "xa = Dense(1180, activation='relu')(xa)\n",
    "out3 = Dense(1, activation='linear')(xa)\n",
    "xb = Dense(1180, activation='relu')(in1)\n",
    "xb = Dense(1180, activation='relu')(xb)\n",
    "xb = Dense(1180, activation='relu')(xb)\n",
    "xb = Dense(1180, activation='relu')(xb)\n",
    "xb = Dense(1180, activation='relu')(xb)\n",
    "xb = Dense(1180, activation='relu')(xb)\n",
    "out4 = Dense(1, activation='linear')(xb)\n",
    "\n",
    "xc = Dense(1180, activation='relu')(in1)\n",
    "xc = Dense(1180, activation='relu')(xc)\n",
    "xc = Dense(1180, activation='relu')(xc)\n",
    "xc = Dense(1180, activation='relu')(xc)\n",
    "xc = Dense(1180, activation='relu')(xc)\n",
    "xc = Dense(1180, activation='relu')(xc)\n",
    "out5 = Dense(1, activation='linear')(xc)\n",
    "model = Model(inputs=in1, outputs=(out1, out2, out3, out4, out5))\n"
   ]
  },
  {
   "cell_type": "code",
   "execution_count": null,
   "id": "8fded307",
   "metadata": {
    "id": "8fded307"
   },
   "outputs": [],
   "source": [
    "optimizer=tf.keras.optimizers.Adam(0.000325)\n",
    "model.compile(optimizer=optimizer, loss=['SparseCategoricalCrossentropy', 'SparseCategoricalCrossentropy', 'mse', 'mse', 'mse'],\n",
    "              metrics=[['accuracy'], ['accuracy'], ['mse','mae'], ['mse','mae'], ['mse','mae']])\n",
    "early=EarlyStopping(monitor='val_loss', patience=100, mode='min', restore_best_weights=True)\n",
    "\n"
   ]
  },
  {
   "cell_type": "code",
   "execution_count": null,
   "id": "9e8340d7-e219-4a19-bf16-941ed1e97d21",
   "metadata": {
    "id": "9e8340d7-e219-4a19-bf16-941ed1e97d21"
   },
   "outputs": [],
   "source": [
    "history=model.fit(x_train,( y1_train, y2_train, y3_train, y4_train, y5_train), validation_data=(x_val,[y1_val, y2_val, y3_val, y4_val, y5_val]), batch_size=128, epochs=1000, verbose=2,validation_batch_size=128, shuffle=True, callbacks=[early])"
   ]
  },
  {
   "cell_type": "code",
   "execution_count": null,
   "id": "2040752e",
   "metadata": {
    "id": "2040752e"
   },
   "outputs": [],
   "source": [
    "import matplotlib.pyplot as plt\n",
    "\n",
    "\n",
    "# Plot validation loss\n",
    "val_loss = history.history['val_loss']\n",
    "epochs = range(1, len(val_loss) + 1)\n",
    "\n",
    "val_loss = history.history['val_loss']\n",
    "df1=pd.DataFrame(val_loss)\n",
    "df1.to_excel('validation_loss1.xlsx')\n",
    "loss=history.history['loss']\n",
    "df2=pd.DataFrame(loss)\n",
    "df2.to_excel('loss1.xlsx')\n"
   ]
  },
  {
   "cell_type": "code",
   "execution_count": null,
   "id": "f086c9d3",
   "metadata": {
    "id": "f086c9d3"
   },
   "outputs": [],
   "source": [
    "plt.plot(epochs, val_loss, 'b', label='Validation loss')\n",
    "plt.title('Validation loss')\n",
    "plt.xlabel('Epochs')\n",
    "plt.ylabel('Loss')\n",
    "plt.legend()\n",
    "plt.show()"
   ]
  },
  {
   "cell_type": "code",
   "execution_count": null,
   "id": "9f9dca0d",
   "metadata": {
    "id": "9f9dca0d"
   },
   "outputs": [],
   "source": [
    "val_accuracy1 = history.history['val_dense_4_accuracy']\n",
    "df3=pd.DataFrame(val_accuracy1)\n",
    "df3.to_excel('validation_accuracylfc1.xlsx')\n",
    "val_acc2=history.history['val_dense_9_accuracy']\n",
    "df4=pd.DataFrame(val_acc2)\n",
    "df4.to_excel('validation_accuracymfc1.xlsx')\n",
    "accuracy1 = history.history['dense_4_accuracy']\n",
    "df5=pd.DataFrame(accuracy1)\n",
    "df5.to_excel('accuracylfc1.xlsx')\n",
    "acc2=history.history['dense_9_accuracy']\n",
    "df6=pd.DataFrame(acc2)\n",
    "df6.to_excel('accuracymfc1.xlsx')\n"
   ]
  },
  {
   "cell_type": "code",
   "execution_count": null,
   "id": "12a64ca2",
   "metadata": {
    "id": "12a64ca2",
    "outputId": "9c8500f0-ac0c-461f-a77a-841d2b1399ef"
   },
   "outputs": [],
   "source": [
    "filename=\"fcinverse1.h5\"\n",
    "model.save(filename)"
   ]
  },
  {
   "cell_type": "code",
   "execution_count": null,
   "id": "ba4c6747",
   "metadata": {
    "id": "ba4c6747"
   },
   "outputs": [],
   "source": []
  }
 ],
 "metadata": {
  "colab": {
   "provenance": []
  },
  "kernelspec": {
   "display_name": "Python 3 (ipykernel)",
   "language": "python",
   "name": "python3"
  },
  "language_info": {
   "codemirror_mode": {
    "name": "ipython",
    "version": 3
   },
   "file_extension": ".py",
   "mimetype": "text/x-python",
   "name": "python",
   "nbconvert_exporter": "python",
   "pygments_lexer": "ipython3",
   "version": "3.9.13"
  }
 },
 "nbformat": 4,
 "nbformat_minor": 5
}
